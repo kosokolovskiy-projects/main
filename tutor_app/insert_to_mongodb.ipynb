{
 "cells": [
  {
   "cell_type": "code",
   "execution_count": 1,
   "metadata": {},
   "outputs": [],
   "source": [
    "import pathlib\n",
    "import re"
   ]
  },
  {
   "cell_type": "code",
   "execution_count": 2,
   "metadata": {},
   "outputs": [],
   "source": [
    "from pymongo import MongoClient"
   ]
  },
  {
   "cell_type": "code",
   "execution_count": 3,
   "metadata": {},
   "outputs": [],
   "source": [
    "for_language = '''\n",
    "                <!DOCTYPE html>\n",
    "                    <head>\n",
    "                            <meta charset=\"utf-8\">\n",
    "                            <title>Tasks</title>\n",
    "                        <style>\n",
    "                            html *,\n",
    "                            hr {\n",
    "                                font-size: 16px;\n",
    "                                line-height: 2.625;\n",
    "                                color: #000000;\n",
    "                                font-family: Nunito, sans-serif;\n",
    "                                text-align: justify;\n",
    "                            }\n",
    "\n",
    "                            hr {\n",
    "                                display: block;\n",
    "                                margin-top: 0em;\n",
    "                                margin-bottom: 1.5em;\n",
    "                                margin-left: auto;\n",
    "                                margin-right: auto;\n",
    "                                border-style: inset;\n",
    "                                border-width: 1px;\n",
    "                                width: 100%;\n",
    "                            }\n",
    "\n",
    "                            ::selection {\n",
    "                                background-color: #000;\n",
    "                                color: #fff;\n",
    "                            }\n",
    "                            table {\n",
    "                                border-collapse: collapse; /* This removes spacing between table cells */\n",
    "                                width: 100%;\n",
    "                                border: 2px solid black; /* Border around the table */\n",
    "                            }\n",
    "\n",
    "                            th, td {\n",
    "                                border: 1px solid black; /* Border around header cells and data cells */\n",
    "                                padding: 8px; /* Add some padding for cell content */\n",
    "                                text-align: left; /* Align text within cells */\n",
    "                            }\n",
    "\n",
    "                            th {\n",
    "                                background-color: #f2f2f2; /* Background color for header cells */\n",
    "                            }\n",
    "                        </style>\n",
    "                    </head>\n",
    "    '''"
   ]
  },
  {
   "cell_type": "code",
   "execution_count": 4,
   "metadata": {},
   "outputs": [],
   "source": [
    "def print_cursor(cursor):\n",
    "    for document in cursor:\n",
    "        print(document, end='\\n\\n')"
   ]
  },
  {
   "cell_type": "code",
   "execution_count": 5,
   "metadata": {},
   "outputs": [],
   "source": [
    "def find_task(task, num):\n",
    "    file_name = 'task_'  + str(task) + '.html'\n",
    "    path = pathlib.Path.cwd() /'files' / 'tasks' / file_name\n",
    "    with open(path, 'r') as file:\n",
    "        src = ' '.join(file.readlines())\n",
    "        idx_start = src.find(f'Задание {str(num)}')\n",
    "        idx_end = src.find(f'Задание {str(num + 1)}')\n",
    "\n",
    "    return src[idx_start:idx_end]"
   ]
  },
  {
   "cell_type": "code",
   "execution_count": 6,
   "metadata": {},
   "outputs": [],
   "source": [
    "def find_answer(task, num):\n",
    "    file_name = 'task_'  + str(task) + '.html'\n",
    "    path = pathlib.Path.cwd() /'files' / 'answers' / file_name\n",
    "    with open(path, 'r') as file:\n",
    "        src = ' '.join(file.readlines())\n",
    "        idx_start = src.find(f'Задание {str(num)}')\n",
    "        idx_end = src.find(f'Задание {str(num + 1)}')\n",
    "        answer = re.findall(\"<br>Answer: <br>([^']*?)<hr>\", src[idx_start:idx_end])[0].strip()\n",
    "        if task == 25:\n",
    "            answer = answer.replace('<br/>', ' | ').split('|')\n",
    "            answer = '|'.join([elem.strip() for elem in answer])\n",
    "        if task == 19:\n",
    "            answer = answer.replace('1)', '').replace('2)', '').replace('3)', '').replace('<br/>', '|').split('|')\n",
    "            answer = '|'.join([elem.strip() for elem in answer])\n",
    "    return answer"
   ]
  },
  {
   "cell_type": "code",
   "execution_count": 7,
   "metadata": {},
   "outputs": [],
   "source": [
    "def add_to(coll_num, task, total):\n",
    "    for num in range(1, total):\n",
    "        try_find = coll_num.find_one({'num': num})\n",
    "        if try_find:\n",
    "            print(f'Nummer {num} of task {task} is already added')\n",
    "        else:\n",
    "            coll_num.insert_one({'num': num, 'ans': find_answer(task, num)})"
   ]
  },
  {
   "cell_type": "code",
   "execution_count": 8,
   "metadata": {},
   "outputs": [],
   "source": [
    "def add_task(coll_num, task, total):\n",
    "    for num in range(1, total):\n",
    "        try_find = coll_num.find_one({'num': num})\n",
    "        if try_find:\n",
    "            print(f'Nummer {num} of task {task} is already added')\n",
    "        else:\n",
    "            coll_num.insert_one({'num': num, 'task': for_language + find_task(task, num)})"
   ]
  },
  {
   "cell_type": "code",
   "execution_count": 10,
   "metadata": {},
   "outputs": [],
   "source": [
    "client = MongoClient(host='localhost', port=27017, tz_aware=True)\n",
    "mongodb_uri = 'mongodb://localhost:27017/'\n",
    "db_name_answers = 'inf_answers'\n",
    "db_name_tasks = 'inf_tasks'\n",
    "db_answers = client[db_name_answers]\n",
    "db_tasks = client[db_name_tasks]"
   ]
  },
  {
   "cell_type": "code",
   "execution_count": 16,
   "metadata": {},
   "outputs": [],
   "source": [
    "task = 11\n",
    "total = 134\n",
    "coll_num = db_answers[f'{task}']\n",
    "coll_num.delete_many({})\n",
    "add_to(coll_num, task, total)\n",
    "coll_num = db_tasks[f'{task}']\n",
    "coll_num.delete_many({})\n",
    "add_task(coll_num, task, total)"
   ]
  }
 ],
 "metadata": {
  "kernelspec": {
   "display_name": "Python 3",
   "language": "python",
   "name": "python3"
  },
  "language_info": {
   "codemirror_mode": {
    "name": "ipython",
    "version": 3
   },
   "file_extension": ".py",
   "mimetype": "text/x-python",
   "name": "python",
   "nbconvert_exporter": "python",
   "pygments_lexer": "ipython3",
   "version": "3.11.6"
  },
  "orig_nbformat": 4
 },
 "nbformat": 4,
 "nbformat_minor": 2
}
