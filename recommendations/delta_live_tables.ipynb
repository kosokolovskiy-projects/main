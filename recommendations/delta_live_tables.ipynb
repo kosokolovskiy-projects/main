{
 "cells": [
  {
   "cell_type": "markdown",
   "metadata": {},
   "source": [
    "### Imports"
   ]
  },
  {
   "cell_type": "code",
   "execution_count": null,
   "metadata": {
    "application/vnd.databricks.v1+cell": {
     "cellMetadata": {},
     "inputWidgets": {},
     "nuid": "91daa52f-c096-4d0a-8a90-df15fcffdc9a",
     "showTitle": false,
     "title": ""
    }
   },
   "outputs": [],
   "source": [
    "import dlt\n",
    "import numpy as np\n",
    "from pyspark.sql.functions import *\n",
    "from pyspark.sql.types import *\n",
    "import pyspark.sql.functions as F\n",
    "from pyspark.sql.functions import col, lit, udf"
   ]
  },
  {
   "cell_type": "markdown",
   "metadata": {},
   "source": [
    "## Widgets For Interaction with Streamlit App"
   ]
  },
  {
   "cell_type": "code",
   "execution_count": null,
   "metadata": {},
   "outputs": [],
   "source": [
    "dbutils.widgets.text(\"movie_id\", \"\", \"Movie ID\")\n",
    "movie_id_param = dbutils.widgets.get(\"movie_id\")\n",
    "movie_id = int(movie_id_param) if movie_id_param.isdigit() else None "
   ]
  },
  {
   "cell_type": "markdown",
   "metadata": {
    "application/vnd.databricks.v1+cell": {
     "cellMetadata": {},
     "inputWidgets": {},
     "nuid": "57262eff-fda1-44d0-85fe-c51ad2eeffe1",
     "showTitle": false,
     "title": ""
    }
   },
   "source": [
    "## Bronze Tables"
   ]
  },
  {
   "cell_type": "markdown",
   "metadata": {},
   "source": [
    "The Bronze layer includes two critical datasets: ratings and movies. These datasets are ingested from CSV files and stored as Delta tables for enhanced reliability and performance. Below, we detail the creation of these tables and their respective schemas."
   ]
  },
  {
   "cell_type": "markdown",
   "metadata": {
    "application/vnd.databricks.v1+cell": {
     "cellMetadata": {},
     "inputWidgets": {},
     "nuid": "7c1ee6e3-96ab-4337-ad69-725d21be14df",
     "showTitle": false,
     "title": ""
    }
   },
   "source": [
    "### Ratings"
   ]
  },
  {
   "cell_type": "markdown",
   "metadata": {},
   "source": [
    "***Objective:*** To store raw user ratings data, capturing how users have rated movies over time.\n",
    "\n",
    "***Schema Definition:***\n",
    "\n",
    "- *userId* (IntegerType): Unique identifier for the user who provided the rating;\n",
    "  \n",
    "- *movieId* (IntegerType): Unique identifier for the movie that was rated;\n",
    "  \n",
    "- *rating* (DoubleType): Numerical rating given to the movie by the user;\n",
    "  \n",
    "- *timestamp* (IntegerType): Timestamp indicating when the rating was provided."
   ]
  },
  {
   "cell_type": "code",
   "execution_count": null,
   "metadata": {
    "application/vnd.databricks.v1+cell": {
     "cellMetadata": {},
     "inputWidgets": {},
     "nuid": "fac48140-427d-4be2-a498-2cacfe19aa36",
     "showTitle": false,
     "title": ""
    }
   },
   "outputs": [],
   "source": [
    "path_ratings = 'dbfs:/mnt/bronze/bronze/ratings.csv'\n",
    "\n",
    "schema_ratings = StructType([\n",
    "    StructField('userId', IntegerType(), False),\n",
    "    StructField('movieId', IntegerType(), False),\n",
    "    StructField('rating', DoubleType(), False),\n",
    "    StructField('timestamp', IntegerType(), False)\n",
    "])"
   ]
  },
  {
   "cell_type": "code",
   "execution_count": null,
   "metadata": {
    "application/vnd.databricks.v1+cell": {
     "cellMetadata": {},
     "inputWidgets": {},
     "nuid": "f09967fe-b9dc-4c3c-a399-0ac922564344",
     "showTitle": false,
     "title": ""
    }
   },
   "outputs": [],
   "source": [
    "@dlt.table\n",
    "def ratings_bronze():\n",
    "    return spark.read\\\n",
    "                    .format(\"csv\") \\\n",
    "                    .option(\"header\", \"true\")\\\n",
    "                    .schema(schema_ratings)\\\n",
    "                    .load(path_ratings)"
   ]
  },
  {
   "cell_type": "markdown",
   "metadata": {
    "application/vnd.databricks.v1+cell": {
     "cellMetadata": {},
     "inputWidgets": {},
     "nuid": "5642e2ee-c066-443a-9fe1-cc11f97c3a7a",
     "showTitle": false,
     "title": ""
    },
    "jupyter": {
     "outputs_hidden": true
    }
   },
   "source": [
    "### Movies"
   ]
  },
  {
   "cell_type": "markdown",
   "metadata": {},
   "source": [
    "***Objective:*** To catalog movie metadata, including titles and genres, as ingested from the source.\n",
    "\n",
    "\n",
    "***Schema Definition:***\n",
    "\n",
    "- *movieId* (IntegerType): Unique identifier for each movie;\n",
    "  \n",
    "- *title* (StringType): The title of the movie;\n",
    "  \n",
    "- *genres* (StringType): A pipe-separated list of genres associated with the movie."
   ]
  },
  {
   "cell_type": "code",
   "execution_count": null,
   "metadata": {
    "application/vnd.databricks.v1+cell": {
     "cellMetadata": {},
     "inputWidgets": {},
     "nuid": "e0194bca-7e5f-4a33-9379-855885f59114",
     "showTitle": false,
     "title": ""
    }
   },
   "outputs": [],
   "source": [
    "path_movies = 'dbfs:/mnt/bronze/bronze/movies.csv'\n",
    "\n",
    "schema_movies = StructType([\n",
    "    StructField('movieId', IntegerType(), False),\n",
    "    StructField('title', StringType(), False),\n",
    "    StructField('genres', StringType(), False)\n",
    "])"
   ]
  },
  {
   "cell_type": "code",
   "execution_count": null,
   "metadata": {
    "application/vnd.databricks.v1+cell": {
     "cellMetadata": {},
     "inputWidgets": {},
     "nuid": "5c661ecf-d705-4d24-a913-53436aeb136c",
     "showTitle": false,
     "title": ""
    }
   },
   "outputs": [],
   "source": [
    "@dlt.table\n",
    "def movies_bronze():\n",
    "    return spark.read\\\n",
    "                .format(\"csv\") \\\n",
    "                .option(\"header\", \"true\")\\\n",
    "                .schema(schema_movies)\\\n",
    "                .load(path_movies)"
   ]
  },
  {
   "cell_type": "markdown",
   "metadata": {
    "application/vnd.databricks.v1+cell": {
     "cellMetadata": {},
     "inputWidgets": {},
     "nuid": "d669beff-dce0-4894-bfb5-eb9e50f64425",
     "showTitle": false,
     "title": ""
    }
   },
   "source": [
    "## Silver Tables"
   ]
  },
  {
   "cell_type": "markdown",
   "metadata": {},
   "source": [
    "Enhancing our movie recommendation system further, we progress to the Silver tables layer. This layer refines the data from the Bronze layer, adding aggregations and enrichments that facilitate more nuanced analysis and insights. Here, we delve into creating aggregated views around user behaviors and movie characteristics, leveraging the power of Delta Lake for optimized data management."
   ]
  },
  {
   "cell_type": "markdown",
   "metadata": {
    "application/vnd.databricks.v1+cell": {
     "cellMetadata": {},
     "inputWidgets": {},
     "nuid": "b7576b34-7944-4b5e-a362-49ab6a563b43",
     "showTitle": false,
     "title": ""
    }
   },
   "source": [
    "#### User: mean, count"
   ]
  },
  {
   "cell_type": "markdown",
   "metadata": {},
   "source": [
    "***Objective:*** Aggregate user data to understand average ratings and the total number of ratings per user. This aggregation helps identify highly active users and their general rating tendencies."
   ]
  },
  {
   "cell_type": "code",
   "execution_count": null,
   "metadata": {
    "application/vnd.databricks.v1+cell": {
     "cellMetadata": {},
     "inputWidgets": {},
     "nuid": "9a8fb485-4111-47b4-bf53-3090dd39abe7",
     "showTitle": false,
     "title": ""
    }
   },
   "outputs": [],
   "source": [
    "@dlt.table\n",
    "def user_mean_count_silver():\n",
    "    return (\n",
    "        dlt.read('ratings_bronze').\\\n",
    "            groupBy('userId').\\\n",
    "            agg(F.mean('rating').alias('mean'), F.count('rating').alias('count')).\\\n",
    "            orderBy(F.col('mean').desc(), F.col('count').desc())\n",
    "    )"
   ]
  },
  {
   "cell_type": "markdown",
   "metadata": {
    "application/vnd.databricks.v1+cell": {
     "cellMetadata": {},
     "inputWidgets": {},
     "nuid": "c2812a28-46eb-4d6b-bdd9-55acf10846b6",
     "showTitle": true,
     "title": ""
    }
   },
   "source": [
    "#### Movie: mean, count"
   ]
  },
  {
   "cell_type": "markdown",
   "metadata": {},
   "source": [
    "***Objective:*** Aggregate movie data to reveal average ratings and total rating counts per movie. This provides insights into overall movie popularity and viewer reception."
   ]
  },
  {
   "cell_type": "code",
   "execution_count": null,
   "metadata": {
    "application/vnd.databricks.v1+cell": {
     "cellMetadata": {},
     "inputWidgets": {},
     "nuid": "a30c15fe-b3e5-4ed7-838f-1c100808e268",
     "showTitle": false,
     "title": ""
    }
   },
   "outputs": [],
   "source": [
    "@dlt.table\n",
    "def movie_mean_count_silver():\n",
    "    return (\n",
    "        dlt.read('ratings_bronze').\\\n",
    "            groupBy('movieId').\\\n",
    "            agg(F.mean('rating').alias('mean'), F.count('rating').alias('count')).\\\n",
    "            orderBy(F.col('mean').desc(), F.col('count').desc())\n",
    "    )"
   ]
  },
  {
   "cell_type": "markdown",
   "metadata": {
    "application/vnd.databricks.v1+cell": {
     "cellMetadata": {},
     "inputWidgets": {},
     "nuid": "411ca8b9-2042-4d6d-b413-2d5faf834fd2",
     "showTitle": false,
     "title": ""
    }
   },
   "source": [
    "#### UserId, MovieId, Title, Rating"
   ]
  },
  {
   "cell_type": "markdown",
   "metadata": {},
   "source": [
    "***Objective:*** Create a comprehensive view that combines user ratings with movie titles. This table is instrumental in user-specific queries and recommendation algorithms."
   ]
  },
  {
   "cell_type": "code",
   "execution_count": null,
   "metadata": {
    "application/vnd.databricks.v1+cell": {
     "cellMetadata": {},
     "inputWidgets": {},
     "nuid": "99e295dc-eee6-49d7-a874-79c9e45559b2",
     "showTitle": false,
     "title": ""
    }
   },
   "outputs": [],
   "source": [
    "@dlt.table\n",
    "def user_movie_title_rating():\n",
    "    ratings_df = dlt.read(\"ratings_bronze\")\n",
    "    movies_df = dlt.read(\"movies_bronze\")\n",
    "\n",
    "    df = ratings_df.join(\n",
    "        movies_df,\n",
    "        ratings_df.movieId == movies_df.movieId,\n",
    "        \"left\"\n",
    "    ).select(\n",
    "        ratings_df.userId,\n",
    "        ratings_df.movieId,\n",
    "        movies_df.title,\n",
    "        ratings_df.rating\n",
    "    )\n",
    "\n",
    "    return df"
   ]
  },
  {
   "cell_type": "markdown",
   "metadata": {},
   "source": [
    "## Caching"
   ]
  },
  {
   "cell_type": "markdown",
   "metadata": {},
   "source": [
    "To enhance query performance and data retrieval speeds, specific tables are cached. This ensures that frequently accessed data is stored in memory, reducing the need for repeated disk reads."
   ]
  },
  {
   "cell_type": "code",
   "execution_count": null,
   "metadata": {
    "application/vnd.databricks.v1+cell": {
     "cellMetadata": {},
     "inputWidgets": {},
     "nuid": "b23ec3a2-c0a5-42e2-98bf-7c40ea593135",
     "showTitle": false,
     "title": ""
    }
   },
   "outputs": [],
   "source": [
    "%sql\n",
    "UNCACHE TABLE IF EXISTS user_mean_count_silver;\n",
    "CACHE TABLE user_mean_count_silver;"
   ]
  },
  {
   "cell_type": "code",
   "execution_count": null,
   "metadata": {
    "application/vnd.databricks.v1+cell": {
     "cellMetadata": {},
     "inputWidgets": {},
     "nuid": "fe02343d-9521-4fee-a9b7-b142a752bc6a",
     "showTitle": false,
     "title": ""
    }
   },
   "outputs": [],
   "source": [
    "%sql\n",
    "UNCACHE TABLE IF EXISTS movie_mean_count_silver;\n",
    "CACHE TABLE movie_mean_count_silver;"
   ]
  },
  {
   "cell_type": "code",
   "execution_count": null,
   "metadata": {
    "application/vnd.databricks.v1+cell": {
     "cellMetadata": {},
     "inputWidgets": {},
     "nuid": "bcde7538-10de-4746-8803-1b1c778d0c6b",
     "showTitle": false,
     "title": ""
    }
   },
   "outputs": [],
   "source": [
    "%sql\n",
    "UNCACHE TABLE IF EXISTS user_movie_title_rating;\n",
    "CACHE TABLE user_movie_title_rating;"
   ]
  },
  {
   "cell_type": "markdown",
   "metadata": {
    "application/vnd.databricks.v1+cell": {
     "cellMetadata": {},
     "inputWidgets": {},
     "nuid": "f9500eb0-324b-4e44-b6f1-11214946a162",
     "showTitle": false,
     "title": ""
    }
   },
   "source": [
    "## Algorithm"
   ]
  },
  {
   "cell_type": "markdown",
   "metadata": {},
   "source": [
    "In this segment, we embark on a journey to develop a personalized movie recommendation system using the Collaborative Filtering algorithm, specifically Alternating Least Squares (ALS), provided by the Apache Spark ML library. This advanced section is dedicated to constructing an ALS model, extracting item factors for movies, and devising a method to find similar movies based on cosine similarity—a measure to quantify how similar two movies are based on their latent factors."
   ]
  },
  {
   "cell_type": "markdown",
   "metadata": {},
   "source": [
    "The ALS model is a cornerstone of collaborative filtering algorithms, optimizing latent factors for both users and items (movies, in our case) to predict how much a user will like an item they have not interacted with. These latent factors are derived from the implicit feedback available in the ratings data."
   ]
  },
  {
   "cell_type": "markdown",
   "metadata": {},
   "source": [
    "***Purpose:*** Trains an ALS model using user ratings and extracts item (movie) factors, which represent latent features inferred from user interactions."
   ]
  },
  {
   "cell_type": "code",
   "execution_count": null,
   "metadata": {
    "application/vnd.databricks.v1+cell": {
     "cellMetadata": {},
     "inputWidgets": {},
     "nuid": "2b9ced2d-c856-4bc4-b415-b8e9b638dbb9",
     "showTitle": false,
     "title": ""
    }
   },
   "outputs": [],
   "source": [
    "@dlt.table(comment=\"Table storing ALS model item factors\")\n",
    "def als_item_factors():\n",
    "    df_ratings = dlt.read(\"ratings_bronze\")\n",
    "    als = ALS(userCol='userId', itemCol='movieId', ratingCol='rating', rank=10, coldStartStrategy='drop')\n",
    "    als_model = als.fit(df_ratings)\n",
    "    item_factors = als_model.itemFactors\n",
    "    item_factors = item_factors.withColumnRenamed('id', 'movieId').withColumn('movieId', col('movieId').cast(IntegerType()))\n",
    "    return item_factors"
   ]
  },
  {
   "cell_type": "markdown",
   "metadata": {},
   "source": [
    "***Function: cosine_similarity(vec1, vec2)***\n",
    "\n",
    "Cosine similarity offers a way to calculate the similarity between two items based on their latent factors. It ranges from -1 (completely dissimilar) to 1 (identical).\n",
    "\n",
    "***Function: get_k_similar_movies(movie_id, k=10)***\n",
    "\n",
    "Retrieves the k most similar movies to a given movie, excluding the movie itself from the results."
   ]
  },
  {
   "cell_type": "code",
   "execution_count": null,
   "metadata": {
    "application/vnd.databricks.v1+cell": {
     "cellMetadata": {},
     "inputWidgets": {},
     "nuid": "68bbdfae-1e8b-4a20-b46f-635370a4a68e",
     "showTitle": false,
     "title": ""
    }
   },
   "outputs": [],
   "source": [
    "@udf(returnType=FloatType())\n",
    "def cosine_similarity(vec1, vec2):\n",
    "    temp = np.dot(vec1, vec2) / (np.linalg.norm(vec1) * np.linalg.norm(vec2))\n",
    "    return float(temp)\n",
    "\n",
    "def get_k_similar_movies(movie_id, k=10):\n",
    "    item_factors = dlt.read_table(\"als_item_factors\")\n",
    "    filtered_df = item_factors.filter(item_factors['id'] == movie_id)\n",
    "    features_collected = filtered_df.select('features').collect()\n",
    "    to_insert = features_collected[0]['features'].tolist()\n",
    "\n",
    "    item_factors = item_factors.withColumn('features_array', F.lit(to_insert))\n",
    "    item_factors = item_factors.withColumn(\"similarity\", cosine_similarity(F.col(\"features\"), F.col(\"features_array\")))\n",
    "    \n",
    "    similar_movies = item_factors.filter(F.col(\"id\") != F.lit(movie_id)).orderBy(F.col(\"similarity\").desc()).select(\"id\").limit(k)\n",
    "    \n",
    "    return similar_movies"
   ]
  },
  {
   "cell_type": "markdown",
   "metadata": {},
   "source": [
    "## Calculation for specific Movie"
   ]
  },
  {
   "cell_type": "markdown",
   "metadata": {},
   "source": [
    "Once similar movies are identified, the results are joined with the movies_bronze table to fetch movie titles and then saved to a specified path for further analysis or to be used within recommendation engines."
   ]
  },
  {
   "cell_type": "code",
   "execution_count": null,
   "metadata": {},
   "outputs": [],
   "source": [
    "if movie_id:\n",
    "    similar_movies = get_k_similar_movies(movie_id, k=50)\n",
    "    df_movies = dlt.read('movies_bronze')\n",
    "    similar_movies_df = similar_movies.join(df_movies, df_movies['movieId'] == similar_movies['id'], how='left').drop(col('id'))\n",
    "    output_path = \"/mnt/results/similar_movies.csv\"\n",
    "    similar_movies_df.write.format(\"parquet\").mode(\"overwrite\").save(output_path)\n"
   ]
  },
  {
   "cell_type": "markdown",
   "metadata": {},
   "source": [
    "## Automation Report"
   ]
  },
  {
   "cell_type": "markdown",
   "metadata": {},
   "source": [
    "The movielens25m_pipeline was created to automate ETL process.\n",
    "\n",
    "The movielens25m_pipeline represents a sophisticated orchestration of data flows within the Databricks environment. By leveraging Delta Live Tables (DLT), we establish an automated, reliable, and maintainable process for continuous data integration and ETL (extract, transform, load) operations. This report outlines the pipeline's structure, its components, and the automation benefits it delivers.\n",
    "\n",
    "**Pipeline Structure**\n",
    "\n",
    "The pipeline is composed of several materialized views—movies_bronze, ratings_bronze, user_movie_title_rating, movie_mean_count_silver, and user_mean_count_silver—each representing a stage in the data transformation process.\n",
    "\n",
    "*Bronze Tables*\n",
    "Bronze tables (movies_bronze and ratings_bronze) serve as the initial raw data repositories. The automation pipeline ingests new data into these tables as it arrives, ensuring a steady flow of the most current information.\n",
    "\n",
    "*Silver Tables*\n",
    "From the bronze layers, data is transformed and promoted to silver tables. These tables—user_movie_title_rating, movie_mean_count_silver, and user_mean_count_silver—provide a more curated view. They offer insights such as average movie ratings, user engagement levels, and a consolidated view of user ratings with movie titles.\n",
    "\n",
    "\n",
    "\n",
    "\n",
    "**Automation and Continuous Integration**\n",
    "\n",
    "*The DLT pipeline automates the entire data lifecycle:*\n",
    "\n",
    "*Ingestion*: New data is automatically ingested into bronze tables.\n",
    "Transformation: Data is transformed using predefined rules and business logic to populate the silver tables.\n",
    "Materialization: Silver tables are materialized views that are automatically updated as underlying data changes, maintaining data freshness.\n",
    "Maintenance: The pipeline handles data cleaning, error handling, and schema enforcement without manual intervention.\n",
    "Benefits of DLT Automation\n",
    "\n",
    "*Scalability*: As data volume grows, the pipeline scales to handle increased loads, thanks to the distributed nature of Databricks.\n",
    "\n",
    "*Reliability*: Continuous integration of data ensures that downstream applications and analytics always have access to the latest data.\n",
    "\n",
    "*Efficiency*: Reduces the time and effort required for manual ETL tasks, freeing up resources for more value-adding activities.\n",
    "\n",
    "*Quality*: Consistent application of transformation logic ensures high data quality and trustworthiness.\n",
    "\n",
    "*Traceability*: The pipeline's execution graph provides clear visibility into the data flow and lineage, simplifying troubleshooting and auditing.\n",
    "Conclusion\n",
    "\n",
    "The movielens25m_pipeline exemplifies how modern data architecture can simplify complex data workflows. By automating the data integration process with Delta Live Tables, we achieve a high level of operational efficiency and data quality, ensuring our data platform remains agile and responsive to the needs of the business."
   ]
  }
 ],
 "metadata": {
  "application/vnd.databricks.v1+notebook": {
   "dashboards": [],
   "language": "python",
   "notebookMetadata": {
    "pythonIndentUnit": 4
   },
   "notebookName": "delta_live_tables",
   "widgets": {}
  },
  "kernelspec": {
   "display_name": "Python 3.11.8 64-bit",
   "language": "python",
   "name": "python3"
  },
  "language_info": {
   "name": "python",
   "version": "3.11.8"
  },
  "vscode": {
   "interpreter": {
    "hash": "5c7b89af1651d0b8571dde13640ecdccf7d5a6204171d6ab33e7c296e100e08a"
   }
  }
 },
 "nbformat": 4,
 "nbformat_minor": 0
}
